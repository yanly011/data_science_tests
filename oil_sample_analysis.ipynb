{
 "cells": [
  {
   "cell_type": "code",
   "execution_count": 1,
   "metadata": {},
   "outputs": [],
   "source": [
    "import pandas as pd"
   ]
  },
  {
   "cell_type": "code",
   "execution_count": 49,
   "metadata": {},
   "outputs": [],
   "source": [
    "dataframe =  pd.read_excel(\"/Users/lujingyang/Downloads/Text Mining Test Data.xlsx\")"
   ]
  },
  {
   "cell_type": "code",
   "execution_count": 5,
   "metadata": {},
   "outputs": [
    {
     "data": {
      "text/html": [
       "<div>\n",
       "<style scoped>\n",
       "    .dataframe tbody tr th:only-of-type {\n",
       "        vertical-align: middle;\n",
       "    }\n",
       "\n",
       "    .dataframe tbody tr th {\n",
       "        vertical-align: top;\n",
       "    }\n",
       "\n",
       "    .dataframe thead th {\n",
       "        text-align: right;\n",
       "    }\n",
       "</style>\n",
       "<table border=\"1\" class=\"dataframe\">\n",
       "  <thead>\n",
       "    <tr style=\"text-align: right;\">\n",
       "      <th></th>\n",
       "      <th>labno</th>\n",
       "      <th>unitno</th>\n",
       "      <th>serialno</th>\n",
       "      <th>custid</th>\n",
       "      <th>modelid</th>\n",
       "      <th>makeid</th>\n",
       "      <th>make</th>\n",
       "      <th>compartid</th>\n",
       "      <th>compart</th>\n",
       "      <th>compartsn</th>\n",
       "      <th>...</th>\n",
       "      <th>PQ</th>\n",
       "      <th>DEP</th>\n",
       "      <th>Ti</th>\n",
       "      <th>Sb</th>\n",
       "      <th>V</th>\n",
       "      <th>B</th>\n",
       "      <th>Ag</th>\n",
       "      <th>Mn</th>\n",
       "      <th>Cd</th>\n",
       "      <th>Ba</th>\n",
       "    </tr>\n",
       "  </thead>\n",
       "  <tbody>\n",
       "    <tr>\n",
       "      <th>0</th>\n",
       "      <td>4906119</td>\n",
       "      <td>TG101 (96)</td>\n",
       "      <td>2BW01739</td>\n",
       "      <td>1212154</td>\n",
       "      <td>789C</td>\n",
       "      <td>CAT</td>\n",
       "      <td>CATERPILLAR</td>\n",
       "      <td>101</td>\n",
       "      <td>ENGINE PRIMARY - DIESEL</td>\n",
       "      <td>NaN</td>\n",
       "      <td>...</td>\n",
       "      <td>0.99</td>\n",
       "      <td>OK</td>\n",
       "      <td>0.99</td>\n",
       "      <td>0.99</td>\n",
       "      <td>0.99</td>\n",
       "      <td>1.0</td>\n",
       "      <td>0.99</td>\n",
       "      <td>2.00</td>\n",
       "      <td>0.99</td>\n",
       "      <td>2.00</td>\n",
       "    </tr>\n",
       "    <tr>\n",
       "      <th>1</th>\n",
       "      <td>4919701</td>\n",
       "      <td>TG101 (96)</td>\n",
       "      <td>2BW01739</td>\n",
       "      <td>1212154</td>\n",
       "      <td>789C</td>\n",
       "      <td>CAT</td>\n",
       "      <td>CATERPILLAR</td>\n",
       "      <td>101</td>\n",
       "      <td>ENGINE PRIMARY - DIESEL</td>\n",
       "      <td>NaN</td>\n",
       "      <td>...</td>\n",
       "      <td>0.99</td>\n",
       "      <td>OK</td>\n",
       "      <td>0.99</td>\n",
       "      <td>0.99</td>\n",
       "      <td>0.99</td>\n",
       "      <td>2.0</td>\n",
       "      <td>0.99</td>\n",
       "      <td>2.00</td>\n",
       "      <td>0.99</td>\n",
       "      <td>2.00</td>\n",
       "    </tr>\n",
       "    <tr>\n",
       "      <th>2</th>\n",
       "      <td>5017601</td>\n",
       "      <td>TG101 (96)</td>\n",
       "      <td>2BW01739</td>\n",
       "      <td>1212154</td>\n",
       "      <td>789C</td>\n",
       "      <td>CAT</td>\n",
       "      <td>CATERPILLAR</td>\n",
       "      <td>101</td>\n",
       "      <td>ENGINE PRIMARY - DIESEL</td>\n",
       "      <td>NaN</td>\n",
       "      <td>...</td>\n",
       "      <td>0.99</td>\n",
       "      <td>OK</td>\n",
       "      <td>0.99</td>\n",
       "      <td>0.99</td>\n",
       "      <td>0.99</td>\n",
       "      <td>1.0</td>\n",
       "      <td>0.99</td>\n",
       "      <td>0.99</td>\n",
       "      <td>0.99</td>\n",
       "      <td>0.99</td>\n",
       "    </tr>\n",
       "    <tr>\n",
       "      <th>3</th>\n",
       "      <td>5058950</td>\n",
       "      <td>TG101 (96)</td>\n",
       "      <td>2BW01739</td>\n",
       "      <td>1212154</td>\n",
       "      <td>789C</td>\n",
       "      <td>CAT</td>\n",
       "      <td>CATERPILLAR</td>\n",
       "      <td>101</td>\n",
       "      <td>ENGINE PRIMARY - DIESEL</td>\n",
       "      <td>NaN</td>\n",
       "      <td>...</td>\n",
       "      <td>0.99</td>\n",
       "      <td>OK</td>\n",
       "      <td>0.99</td>\n",
       "      <td>0.99</td>\n",
       "      <td>0.99</td>\n",
       "      <td>1.0</td>\n",
       "      <td>0.99</td>\n",
       "      <td>0.99</td>\n",
       "      <td>0.99</td>\n",
       "      <td>0.99</td>\n",
       "    </tr>\n",
       "    <tr>\n",
       "      <th>4</th>\n",
       "      <td>5096843</td>\n",
       "      <td>TG101 (96)</td>\n",
       "      <td>2BW01739</td>\n",
       "      <td>1212154</td>\n",
       "      <td>789C</td>\n",
       "      <td>CAT</td>\n",
       "      <td>CATERPILLAR</td>\n",
       "      <td>101</td>\n",
       "      <td>ENGINE PRIMARY - DIESEL</td>\n",
       "      <td>NaN</td>\n",
       "      <td>...</td>\n",
       "      <td>0.99</td>\n",
       "      <td>OK</td>\n",
       "      <td>0.99</td>\n",
       "      <td>0.99</td>\n",
       "      <td>0.99</td>\n",
       "      <td>2.0</td>\n",
       "      <td>0.99</td>\n",
       "      <td>0.99</td>\n",
       "      <td>0.99</td>\n",
       "      <td>0.99</td>\n",
       "    </tr>\n",
       "  </tbody>\n",
       "</table>\n",
       "<p>5 rows × 54 columns</p>\n",
       "</div>"
      ],
      "text/plain": [
       "     labno      unitno  serialno   custid modelid makeid         make  \\\n",
       "0  4906119  TG101 (96)  2BW01739  1212154    789C    CAT  CATERPILLAR   \n",
       "1  4919701  TG101 (96)  2BW01739  1212154    789C    CAT  CATERPILLAR   \n",
       "2  5017601  TG101 (96)  2BW01739  1212154    789C    CAT  CATERPILLAR   \n",
       "3  5058950  TG101 (96)  2BW01739  1212154    789C    CAT  CATERPILLAR   \n",
       "4  5096843  TG101 (96)  2BW01739  1212154    789C    CAT  CATERPILLAR   \n",
       "\n",
       "   compartid                  compart  compartsn  ...     PQ DEP    Ti    Sb  \\\n",
       "0        101  ENGINE PRIMARY - DIESEL        NaN  ...   0.99  OK  0.99  0.99   \n",
       "1        101  ENGINE PRIMARY - DIESEL        NaN  ...   0.99  OK  0.99  0.99   \n",
       "2        101  ENGINE PRIMARY - DIESEL        NaN  ...   0.99  OK  0.99  0.99   \n",
       "3        101  ENGINE PRIMARY - DIESEL        NaN  ...   0.99  OK  0.99  0.99   \n",
       "4        101  ENGINE PRIMARY - DIESEL        NaN  ...   0.99  OK  0.99  0.99   \n",
       "\n",
       "      V    B    Ag    Mn    Cd    Ba  \n",
       "0  0.99  1.0  0.99  2.00  0.99  2.00  \n",
       "1  0.99  2.0  0.99  2.00  0.99  2.00  \n",
       "2  0.99  1.0  0.99  0.99  0.99  0.99  \n",
       "3  0.99  1.0  0.99  0.99  0.99  0.99  \n",
       "4  0.99  2.0  0.99  0.99  0.99  0.99  \n",
       "\n",
       "[5 rows x 54 columns]"
      ]
     },
     "execution_count": 5,
     "metadata": {},
     "output_type": "execute_result"
    }
   ],
   "source": [
    "dataframe.head()"
   ]
  },
  {
   "cell_type": "code",
   "execution_count": 6,
   "metadata": {},
   "outputs": [
    {
     "name": "stdout",
     "output_type": "stream",
     "text": [
      "Column name:  labno      Missing value count:  0    Rate of missing value:  0.00%\n",
      "Column name:  unitno     Missing value count:  0    Rate of missing value:  0.00%\n",
      "Column name:  serialno   Missing value count:  0    Rate of missing value:  0.00%\n",
      "Column name:  custid     Missing value count:  0    Rate of missing value:  0.00%\n",
      "Column name:  modelid    Missing value count:  0    Rate of missing value:  0.00%\n",
      "Column name:  makeid     Missing value count:  0    Rate of missing value:  0.00%\n",
      "Column name:  make       Missing value count:  0    Rate of missing value:  0.00%\n",
      "Column name:  compartid  Missing value count:  0    Rate of missing value:  0.00%\n",
      "Column name:  compart    Missing value count:  0    Rate of missing value:  0.00%\n",
      "Column name:  compartsn  Missing value count:  413  Rate of missing value:  100.00%\n",
      "Column name:  oiltypeid  Missing value count:  0    Rate of missing value:  0.00%\n",
      "Column name:  oilgradeid Missing value count:  24   Rate of missing value:  5.81%\n",
      "Column name:  notes      Missing value count:  0    Rate of missing value:  0.00%\n",
      "Column name:  last_interpret_date Missing value count:  0    Rate of missing value:  0.00%\n",
      "Column name:  sampledate Missing value count:  0    Rate of missing value:  0.00%\n",
      "Column name:  processdate Missing value count:  0    Rate of missing value:  0.00%\n",
      "Column name:  meterread  Missing value count:  0    Rate of missing value:  0.00%\n",
      "Column name:  oilchanged Missing value count:  7    Rate of missing value:  1.69%\n",
      "Column name:  filterchanged Missing value count:  60   Rate of missing value:  14.53%\n",
      "Column name:  evaluation Missing value count:  0    Rate of missing value:  0.00%\n",
      "Column name:  Cu         Missing value count:  0    Rate of missing value:  0.00%\n",
      "Column name:  Fe         Missing value count:  0    Rate of missing value:  0.00%\n",
      "Column name:  Cr         Missing value count:  0    Rate of missing value:  0.00%\n",
      "Column name:  Pb         Missing value count:  0    Rate of missing value:  0.00%\n",
      "Column name:  Al         Missing value count:  0    Rate of missing value:  0.00%\n",
      "Column name:  Si         Missing value count:  0    Rate of missing value:  0.00%\n",
      "Column name:  Sn         Missing value count:  0    Rate of missing value:  0.00%\n",
      "Column name:  Ni         Missing value count:  0    Rate of missing value:  0.00%\n",
      "Column name:  Na         Missing value count:  0    Rate of missing value:  0.00%\n",
      "Column name:  K          Missing value count:  0    Rate of missing value:  0.00%\n",
      "Column name:  Mo         Missing value count:  0    Rate of missing value:  0.00%\n",
      "Column name:  Ca         Missing value count:  0    Rate of missing value:  0.00%\n",
      "Column name:  Mg         Missing value count:  0    Rate of missing value:  0.00%\n",
      "Column name:  P          Missing value count:  0    Rate of missing value:  0.00%\n",
      "Column name:  Zn         Missing value count:  0    Rate of missing value:  0.00%\n",
      "Column name:  V40        Missing value count:  0    Rate of missing value:  0.00%\n",
      "Column name:  V100       Missing value count:  3    Rate of missing value:  0.73%\n",
      "Column name:  F          Missing value count:  3    Rate of missing value:  0.73%\n",
      "Column name:  WAT        Missing value count:  0    Rate of missing value:  0.00%\n",
      "Column name:  UST        Missing value count:  1    Rate of missing value:  0.24%\n",
      "Column name:  UOXI       Missing value count:  1    Rate of missing value:  0.24%\n",
      "Column name:  USUL       Missing value count:  1    Rate of missing value:  0.24%\n",
      "Column name:  UNIT       Missing value count:  1    Rate of missing value:  0.24%\n",
      "Column name:  UZDDP      Missing value count:  1    Rate of missing value:  0.24%\n",
      "Column name:  PQ         Missing value count:  0    Rate of missing value:  0.00%\n",
      "Column name:  DEP        Missing value count:  0    Rate of missing value:  0.00%\n",
      "Column name:  Ti         Missing value count:  0    Rate of missing value:  0.00%\n",
      "Column name:  Sb         Missing value count:  0    Rate of missing value:  0.00%\n",
      "Column name:  V          Missing value count:  1    Rate of missing value:  0.24%\n",
      "Column name:  B          Missing value count:  0    Rate of missing value:  0.00%\n",
      "Column name:  Ag         Missing value count:  0    Rate of missing value:  0.00%\n",
      "Column name:  Mn         Missing value count:  0    Rate of missing value:  0.00%\n",
      "Column name:  Cd         Missing value count:  0    Rate of missing value:  0.00%\n",
      "Column name:  Ba         Missing value count:  0    Rate of missing value:  0.00%\n"
     ]
    }
   ],
   "source": [
    "#Review the missing data condition\n",
    "for i in dataframe.columns:\n",
    "    d=len(dataframe)-dataframe[i].count()\n",
    "    r=(d/len(dataframe))*100\n",
    "    rate='%.2f%%' % r\n",
    "    print('Column name: ',str(i).ljust(10),'Missing value count: ',str(d).ljust(4),'Rate of missing value: ',rate) "
   ]
  },
  {
   "cell_type": "code",
   "execution_count": 97,
   "metadata": {},
   "outputs": [],
   "source": [
    "X = dataframe['notes']\n",
    "y = dataframe['evaluation']"
   ]
  },
  {
   "cell_type": "code",
   "execution_count": 9,
   "metadata": {},
   "outputs": [
    {
     "name": "stderr",
     "output_type": "stream",
     "text": [
      "/Users/lujingyang/anaconda3/lib/python3.6/site-packages/sklearn/cross_validation.py:41: DeprecationWarning: This module was deprecated in version 0.18 in favor of the model_selection module into which all the refactored classes and functions are moved. Also note that the interface of the new CV iterators are different from that of this module. This module will be removed in 0.20.\n",
      "  \"This module will be removed in 0.20.\", DeprecationWarning)\n"
     ]
    }
   ],
   "source": [
    "from sklearn.cross_validation import train_test_split\n",
    "X_train, X_test, y_train, y_test = train_test_split(X, y, test_size=0.3, random_state=0)"
   ]
  },
  {
   "cell_type": "code",
   "execution_count": 51,
   "metadata": {},
   "outputs": [
    {
     "data": {
      "text/plain": [
       "A    330\n",
       "B     76\n",
       "C      7\n",
       "Name: evaluation, dtype: int64"
      ]
     },
     "execution_count": 51,
     "metadata": {},
     "output_type": "execute_result"
    }
   ],
   "source": [
    "y.value_counts()"
   ]
  },
  {
   "cell_type": "code",
   "execution_count": 98,
   "metadata": {},
   "outputs": [],
   "source": [
    "from sklearn.preprocessing import LabelEncoder"
   ]
  },
  {
   "cell_type": "code",
   "execution_count": 149,
   "metadata": {},
   "outputs": [],
   "source": [
    "le = LabelEncoder()\n",
    "y1 = le.fit_transform(y.values)"
   ]
  },
  {
   "cell_type": "code",
   "execution_count": 150,
   "metadata": {},
   "outputs": [
    {
     "name": "stdout",
     "output_type": "stream",
     "text": [
      "[1 1 0 0 0 0 0 0 0 0 0 0 0 0 0 0 0 0 0 1 0 0 1 1 1 1 1 1 0 0 0 0 0 0 0 0 0\n",
      " 0 0 0 0 1 0 0 1 0 0 0 0 1 0 0 1 0 1 2 0 0 0 1 0 0 0 1 1 0 0 0 0 0 0 0 0 0\n",
      " 0 1 0 1 0 0 0 0 1 1 1 2 1 0 0 0 0 0 0 0 1 0 1 0 0 0 1 0 0 0 0 0 0 0 0 1 0\n",
      " 0 1 0 0 0 0 0 1 1 0 0 0 0 0 0 0 0 0 0 0 0 0 0 0 0 0 0 0 0 0 0 0 0 0 0 0 0\n",
      " 0 0 0 0 0 0 0 0 0 0 0 0 0 0 1 1 0 0 0 0 0 0 0 0 0 0 1 1 0 2 0 0 0 1 0 1 0\n",
      " 0 0 0 0 0 0 0 0 0 0 0 0 0 0 0 0 1 0 0 0 0 0 0 0 0 0 1 0 0 0 0 0 0 0 1 0 0\n",
      " 0 0 0 0 0 0 0 0 0 0 0 1 1 0 1 0 0 0 0 0 0 0 0 0 1 0 0 0 0 0 0 1 1 1 1 1 0\n",
      " 0 0 0 0 0 0 0 0 0 0 0 0 0 1 1 0 0 0 0 1 0 1 0 1 1 1 0 0 0 0 0 0 0 0 0 0 0\n",
      " 0 0 0 0 1 0 0 1 0 0 0 0 0 1 0 0 0 0 0 0 0 0 0 0 0 0 0 0 1 0 0 0 0 0 0 0 0\n",
      " 0 0 1 0 0 0 0 0 0 0 0 0 0 0 0 1 0 0 0 0 0 0 0 0 0 0 0 1 1 0 0 1 0 1 1 0 1\n",
      " 0 0 0 0 1 1 0 0 1 0 1 0 1 0 0 0 0 0 0 2 0 1 2 2 2 1 0 0 1 0 1 0 0 0 0 0 0\n",
      " 0 0 0 0 0 0]\n"
     ]
    }
   ],
   "source": [
    "print(y1)\n",
    "# mask = y1>0\n",
    "# y1[mask] = 1\n",
    "# print(y1)\n",
    "# y2=[]\n",
    "# for i in y1:\n",
    "#     y2.append(i)\n",
    "# print(y2)"
   ]
  },
  {
   "cell_type": "code",
   "execution_count": 107,
   "metadata": {},
   "outputs": [],
   "source": [
    "#Clean the text\n",
    "import nltk\n",
    "from nltk.stem import WordNetLemmatizer \n",
    "from nltk.corpus import stopwords\n",
    "\n",
    "\n",
    "def text_clean(original_text):\n",
    "    X_clean=[]\n",
    "    for i in range(0, len(original_text)):\n",
    "        originalSentence = original_text[i]\n",
    "        wordsInStr= nltk.word_tokenize(originalSentence)\n",
    "        wordnet_lematizer = WordNetLemmatizer()\n",
    "        stem_words = [wordnet_lematizer.lemmatize(raw_word) for raw_word in wordsInStr]\n",
    "        filtered_words = [word for word in stem_words if word not in stopwords.words('english')]\n",
    "        lower_case_words = [word.lower() for word in filtered_words if word.isalpha()]\n",
    "        clean_text = \"\"\n",
    "        for word in lower_case_words:\n",
    "            clean_text=clean_text+word+\" \";\n",
    "        X_clean.append(clean_text)\n",
    "    return X_clean\n",
    "\n",
    "X2 = text_clean(X)\n",
    "# print(X2)"
   ]
  },
  {
   "cell_type": "markdown",
   "metadata": {},
   "source": [
    "X2"
   ]
  },
  {
   "cell_type": "code",
   "execution_count": 151,
   "metadata": {},
   "outputs": [
    {
     "name": "stdout",
     "output_type": "stream",
     "text": [
      "  (0, 5)\t0.31029513225\n",
      "  (0, 260)\t0.382630657709\n",
      "  (0, 158)\t0.26588855108\n",
      "  (0, 55)\t0.351385220145\n",
      "  (0, 237)\t0.242341931893\n",
      "  (0, 222)\t0.177927706856\n",
      "  (0, 243)\t0.173218490243\n",
      "  (0, 60)\t0.192033730211\n",
      "  (0, 217)\t0.175769223896\n",
      "  (0, 175)\t0.175769223896\n",
      "  (0, 148)\t0.173218490243\n",
      "  (0, 17)\t0.307673493662\n",
      "  (0, 269)\t0.154208784852\n",
      "  (0, 3)\t0.176628977453\n",
      "  (0, 18)\t0.168240790911\n",
      "  (0, 16)\t0.169470161506\n",
      "  (0, 274)\t0.235232780044\n",
      "  (0, 193)\t0.165409987962\n",
      "  (0, 283)\t0.157218010846\n",
      "  (1, 5)\t0.304068164049\n",
      "  (1, 158)\t0.26055272921\n",
      "  (1, 55)\t0.34433366063\n",
      "  (1, 222)\t0.174357073425\n",
      "  (1, 243)\t0.169742360847\n",
      "  (1, 60)\t0.188180018672\n",
      "  :\t:\n",
      "  (287, 142)\t0.156713953893\n",
      "  (287, 136)\t0.164768781582\n",
      "  (287, 193)\t0.133651847691\n",
      "  (287, 283)\t0.127032701585\n",
      "  (288, 113)\t0.290176739353\n",
      "  (288, 222)\t0.172467144882\n",
      "  (288, 243)\t0.167902453085\n",
      "  (288, 60)\t0.1861402575\n",
      "  (288, 217)\t0.170374905287\n",
      "  (288, 175)\t0.170374905287\n",
      "  (288, 287)\t0.194208736795\n",
      "  (288, 189)\t0.285599277175\n",
      "  (288, 148)\t0.167902453085\n",
      "  (288, 17)\t0.298231062185\n",
      "  (288, 238)\t0.318793170862\n",
      "  (288, 269)\t0.149476151349\n",
      "  (288, 12)\t0.177611949862\n",
      "  (288, 3)\t0.342416546395\n",
      "  (288, 159)\t0.281158476268\n",
      "  (288, 18)\t0.163077518245\n",
      "  (288, 16)\t0.164269159728\n",
      "  (288, 142)\t0.187999728999\n",
      "  (288, 136)\t0.197662591718\n",
      "  (288, 193)\t0.160333592012\n",
      "  (288, 283)\t0.152393024863\n",
      "[0 0 1 0 0 0 0 1 1 0 0 0 0 0 0 0 0 1 0 0 0 0 0 0 0 0 0 0 0 1 0 0 0 0 0 0 0\n",
      " 0 1 0 0 0 0 0 0 0 0 0 0 1 0 0 0 2 0 0 0 0 0 0 1 1 0 0 0 0 2 0 0 0 2 0 0 0\n",
      " 1 0 0 0 0 1 1 0 1 0 0 0 0 0 0 0 1 0 0 0 1 0 0 0 1 0 0 1 0 0 1 1 0 0 0 0 0\n",
      " 0 0 1 0 0 0 0 0 0 0 0 0 0 1 0 0 0 0 0 1 0 0 0 0 0 0 0 0 1 1 0 0 0 0 0 0 1\n",
      " 0 0 0 0 0 0 1 0 0 1 0 0 0 0 0 0 0 1 1 0 0 2 0 1 0 0 0 0 0 0 0 0 0 0 0 0 1\n",
      " 0 1 1 0 0 0 1 0 1 1 0 0 0 0 0 0 0 0 0 0 0 0 0 0 1 0 0 1 0 1 0 0 1 0 1 0 1\n",
      " 0 0 0 1 1 0 0 1 1 0 0 0 0 0 0 0 1 1 0 0 0 0 0 0 0 0 0 1 0 0 1 2 0 0 1 0 0\n",
      " 0 0 0 0 1 0 0 0 1 0 0 0 0 0 0 0 0 0 0 0 1 0 0 0 0 0 0 0 0 0]\n"
     ]
    }
   ],
   "source": [
    "from sklearn.feature_extraction.text import TfidfVectorizer\n",
    "obj = TfidfVectorizer()\n",
    "X_vector = obj.fit_transform(X2)\n",
    "# print (X_vector)\n",
    "X_train, X_test, y_train, y_test = train_test_split(X_vector, y1, test_size=0.3, random_state=0)\n",
    "\n",
    "print(X_train)\n",
    "print(y_train)\n"
   ]
  },
  {
   "cell_type": "code",
   "execution_count": 152,
   "metadata": {},
   "outputs": [],
   "source": [
    "from sklearn import svm \n",
    "model = svm.SVC(kernel='linear') \n",
    "model.fit(X_train, y_train) \n",
    "\n",
    "prediction = model.predict(X_test)\n",
    "\n"
   ]
  },
  {
   "cell_type": "code",
   "execution_count": 153,
   "metadata": {},
   "outputs": [
    {
     "data": {
      "text/plain": [
       "array([0, 0, 0, 0, 0, 1, 0, 0, 0, 0, 0, 1, 0, 0, 0, 0, 0, 0, 0, 0, 0, 0, 0,\n",
       "       1, 0, 1, 0, 0, 0, 0, 0, 0, 0, 0, 0, 0, 0, 0, 0, 1, 0, 0, 1, 0, 0, 0,\n",
       "       0, 0, 0, 0, 0, 0, 1, 0, 0, 0, 0, 0, 1, 0, 0, 0, 0, 0, 0, 0, 1, 1, 1,\n",
       "       0, 0, 0, 0, 1, 0, 0, 0, 0, 0, 1, 0, 1, 0, 0, 0, 0, 0, 0, 1, 0, 1, 0,\n",
       "       1, 1, 2, 0, 0, 0, 0, 0, 0, 0, 1, 2, 1, 0, 0, 0, 0, 0, 0, 0, 0, 0, 0,\n",
       "       0, 1, 0, 0, 0, 0, 0, 0, 1])"
      ]
     },
     "execution_count": 153,
     "metadata": {},
     "output_type": "execute_result"
    }
   ],
   "source": [
    "y_test"
   ]
  },
  {
   "cell_type": "code",
   "execution_count": 154,
   "metadata": {},
   "outputs": [
    {
     "data": {
      "text/plain": [
       "array([0, 0, 0, 0, 0, 1, 0, 0, 0, 0, 0, 1, 0, 0, 0, 0, 0, 0, 0, 0, 0, 0, 0,\n",
       "       1, 0, 1, 0, 0, 0, 0, 0, 0, 0, 0, 0, 0, 0, 0, 0, 1, 0, 0, 0, 0, 0, 0,\n",
       "       0, 0, 0, 0, 0, 0, 1, 0, 0, 0, 0, 0, 1, 0, 0, 0, 0, 0, 0, 0, 1, 1, 1,\n",
       "       0, 0, 0, 0, 1, 0, 0, 0, 0, 0, 1, 0, 1, 0, 0, 0, 0, 0, 0, 1, 0, 1, 0,\n",
       "       1, 1, 1, 0, 0, 0, 0, 0, 0, 0, 1, 2, 1, 0, 0, 0, 0, 0, 0, 0, 0, 0, 0,\n",
       "       0, 1, 0, 0, 0, 0, 0, 0, 1])"
      ]
     },
     "execution_count": 154,
     "metadata": {},
     "output_type": "execute_result"
    }
   ],
   "source": [
    "prediction"
   ]
  },
  {
   "cell_type": "code",
   "execution_count": 113,
   "metadata": {},
   "outputs": [
    {
     "name": "stdout",
     "output_type": "stream",
     "text": [
      "  (0, 42)\t0.143109522638\n",
      "  (0, 2)\t0.286219045277\n",
      "  (0, 28)\t0.429328567915\n",
      "  (0, 17)\t0.143109522638\n",
      "  (0, 34)\t0.201135440706\n",
      "  (0, 29)\t0.201135440706\n",
      "  (0, 12)\t0.286219045277\n",
      "  (0, 15)\t0.201135440706\n",
      "  (0, 41)\t0.201135440706\n",
      "  (0, 5)\t0.143109522638\n",
      "  (0, 7)\t0.201135440706\n",
      "  (0, 24)\t0.143109522638\n",
      "  (0, 26)\t0.143109522638\n",
      "  (0, 31)\t0.143109522638\n",
      "  (0, 6)\t0.286219045277\n",
      "  (0, 40)\t0.143109522638\n",
      "  (0, 33)\t0.143109522638\n",
      "  (0, 39)\t0.143109522638\n",
      "  (0, 3)\t0.143109522638\n",
      "  (0, 32)\t0.143109522638\n",
      "  (0, 20)\t0.143109522638\n",
      "  (0, 27)\t0.143109522638\n",
      "  (0, 11)\t0.143109522638\n",
      "  (0, 18)\t0.201135440706\n",
      "  (0, 10)\t0.201135440706\n",
      "  :\t:\n",
      "  (1, 39)\t0.116735075495\n",
      "  (1, 3)\t0.116735075495\n",
      "  (1, 32)\t0.116735075495\n",
      "  (1, 20)\t0.116735075495\n",
      "  (1, 27)\t0.116735075495\n",
      "  (1, 11)\t0.116735075495\n",
      "  (1, 36)\t0.1640670755\n",
      "  (1, 30)\t0.1640670755\n",
      "  (1, 1)\t0.1640670755\n",
      "  (1, 43)\t0.328134151001\n",
      "  (1, 35)\t0.1640670755\n",
      "  (1, 22)\t0.1640670755\n",
      "  (1, 16)\t0.328134151001\n",
      "  (1, 0)\t0.1640670755\n",
      "  (1, 9)\t0.1640670755\n",
      "  (1, 19)\t0.1640670755\n",
      "  (1, 37)\t0.1640670755\n",
      "  (1, 14)\t0.1640670755\n",
      "  (1, 4)\t0.1640670755\n",
      "  (1, 25)\t0.1640670755\n",
      "  (1, 8)\t0.1640670755\n",
      "  (1, 21)\t0.1640670755\n",
      "  (1, 38)\t0.1640670755\n",
      "  (1, 13)\t0.1640670755\n",
      "  (1, 23)\t0.1640670755\n"
     ]
    }
   ],
   "source": [
    "test = [\"Viscosity acceptable for oil grade indicated.Next sample please confirm exact oil type used.Infrared analysis appears acceptable.Wear levels below the 5 micron range appear acceptable.All other test results appear acceptable. Suggested Action:Resample at 250 hours to confirm normal conditions now that the oil has been changed.\", \"Viscosity acceptable for oil grade indicated.Soot is increasing.Excess soot will promote abrasive wear in components.Iron is slightly high.Other wear levels in the 5 micron range appear ok.All other test results appear acceptable. Suggested Action: Inspect the filter(s) for abnormal debris.Check for causes of high sooting and evaluate;Check/clean the air filter(s).Filtergram analysis may assist identifying the source of the elevated Iron. Resample at 250 hours to confirm normal conditions.\"]\n",
    "clean_test = text_clean(test)\n",
    "\n",
    "clean_test_vector =  obj.fit_transform(clean_test)\n",
    "print(clean_test_vector)"
   ]
  },
  {
   "cell_type": "code",
   "execution_count": 94,
   "metadata": {},
   "outputs": [
    {
     "name": "stdout",
     "output_type": "stream",
     "text": [
      "['viscosity slightly low oil type indicated this may due factory fill infrared analysis appears iron lead tin slightly high oil levels may acceptable due period all test results appear cut open used oil filter service interval inspect debris more sample needed establish hour ', 'viscosity slightly low viscosity may typical factory fill analysis appears lead tin slightly high oil levels may acceptable due period all test results appear sample needed establish improve resample hour interval ', 'viscosity normal oil type indicated infrared analysis appears acceptable wear levels micron range appear all test results appear acceptable continue sampling recommended interval ', 'viscosity normal oil grade indicated wear levels micron range appear infrared analysis appears acceptable all test results appear acceptable continue sampling recommended interval ', 'viscosity appears acceptable compartment no new oil found sample bottle test please supply new oil infrared test cap supplied next sample next sample please advise oil type grade used wear levels micron range appear test results appear sampling recommended interval ', 'viscosity normal oil type indicated infrared analysis appears acceptable wear levels micron range appear all test results appear acceptable continue sampling recommended interval ', 'viscosity normal oil grade indicated no new oil found sample bottle test wear levels micron range appear all test results appear acceptable continue sampling recommended interval ', 'viscosity normal oil grade indicated wear levels micron range appear infrared analysis appears acceptable all test results appear acceptable continue sampling recommended interval ', 'viscosity typical grade oil please advise make grade oil future sample infrared analysis appears levels micron range appear all test results appear sampling recommended interval ', 'viscosity acceptable oil grade advise make oil future sample infrared analysis appears levels micron range appear all test results appear supply correct oil hour future sample used gauge wear rate continue sampling recommended interval ', 'viscosity acceptable oil grade indicated infrared analysis appears acceptable wear levels micron range appear all test results appear acceptable continue sampling recommended interval ', 'viscosity normal oil grade indicated wear levels micron range appear infrared analysis appears acceptable all test results appear acceptable continue sampling recommended interval oil hours ', 'viscosity normal oil grade indicated wear levels micron range appear infrared analysis appears acceptable all test results appear acceptable continue sampling recommended interval ', 'viscosity normal oil type indicated infrared analysis appears acceptable wear levels micron range appear all test results appear acceptable continue sampling recommended supply correct oil hour future sample used gauge wear rate ', 'viscosity appears acceptable compartment infrared analysis appears acceptable wear levels micron range appear all test results appear acceptable continue sampling recommended interval ', 'viscosity normal oil type indicated infrared analysis appears acceptable wear levels micron range appear all test results appear acceptable continue sampling recommended interval ', 'viscosity typical grade advise make grade oil future sample wear levels micron range appear all test result appear sampling recommended interval ', 'viscosity normal oil grade indicated wear levels micron range appear infrared analysis appears acceptable all test results appear acceptable continue sampling recommended interval ', 'viscosity normal oil type indicated infrared analysis appears acceptable wear levels micron range appear all test result appear acceptable continue sampling recommended interval ', 'viscosity appears acceptable compartment infrared analysis appears nickel slightly high oil all test result appear evaluate compartment condition inspect used oil filter abnormal debris resample half recommended interval confirm normal condition oil ha changed ', 'viscosity normal oil grade indicated wear levels micron range appear infrared analysis appears acceptable all test results appear acceptable continue sampling recommended interval ', 'viscosity appears acceptable compartment infrared analysis appears levels micron range appear all test result appear sampling recommended hours ', 'viscosity normal oil type indicated infrared analysis appears extremely high a patch revealed low copper wear debris suggesting high icp copper result relates chemical leaching iron lead nickel slightly high oil all test result appear used oil filter abnormal debris reduce oil change hour ', 'viscosity typical grade high residue prior contamination all test result appear filter debris continue sampling recommended interval ', 'viscosity acceptable oil grade analysis appears result appears high oil all test result appear acceptable recommend cut open used oil filter service interval inspect debris a patch test reveal copper wear particle large extent suggesting high icp copper result largely relates chemical sampling recommended interval oil ha changed ', 'viscosity normal oil type indicated infrared analysis appears result appears slightly high all test result appear cut open used oil filter service interval inspect debris please advise oil ha changed correct service hour oil continue sampling recommended registration card wa blank ', 'viscosity normal oil type indicated infrared analysis appears slightly high all test result appear used oil filter abnormal sampling recommended interval oil ha changed ', 'viscosity typical grade advise make grade oil future sample infrared analysis appears levels micron range appear acceptable unknown hour test result appear sampling recommended interval ', 'viscosity typical grade oil please advise make grade oil future sample infrared analysis appears acceptable wear levels micron range appear all test results appear acceptable continue sampling recommended interval ', 'viscosity acceptable oil grade indicated infrared analysis appears acceptable wear levels micron range appear all test results appear acceptable continue sampling recommended interval ', 'viscosity normal oil type indicated infrared analysis appears acceptable wear levels micron range appear all test result appear acceptable continue sampling recommended interval ', 'viscosity normal oil type indicated infrared analysis appears acceptable wear levels micron range appear all test result appear acceptable continue sampling recommended interval ', 'viscosity normal oil type indicated infrared analysis appears acceptable wear levels micron range appear all test result appear acceptable continue sampling recommended interval ', 'viscosity normal oil type indicated infrared analysis appears acceptable wear levels micron range appear all test result appear acceptable continue sampling recommended interval ', 'viscosity consistent oil type analysis appears level micron range appear test result appear sampling recommended interval ', 'viscosity consistent oil type indicated infrared analysis appears acceptable wear levels micron range appear all test result appear acceptable continue sampling recommended interval ', 'viscosity consistent oil type indicated infrared analysis appears acceptable wear levels micron range appear all test result appear acceptable continue sampling recommended interval ', 'viscosity consistent oil type indicated infrared analysis appears acceptable wear levels micron range appear all test result appear acceptable continue sampling recommended interval ', 'viscosity consistent oil type indicated infrared analysis appears acceptable wear levels micron range appear all test result appear acceptable continue sampling recommended interval ', 'viscosity consistent oil type analysis appears level micron range appear test result appear sampling recommended interval ', 'viscosity consistent oil type indicated infrared analysis appears acceptable wear levels micron range appear all test result appear acceptable continue sampling recommended interval ', 'viscosity consistent oil type analysis appears level micron range appear test contains slightly elevated ferrous wear test result appear used oil filter abnormal half recommended interval following investigation ', 'viscosity acceptable oil grade indicated next sample please confirm oil type used infrared analysis appears acceptable wear levels micron range appear all test results appear acceptable continue sampling recommended interval ', 'viscosity consistent oil type indicated infrared analysis appears acceptable wear levels micron range appear acceptable all test result appear acceptable continue sampling recommended interval ', 'viscosity acceptable oil grade sample please confirm exact oil type grade result may may acceptable depending oil level micron range appear acceptable all test result appear acceptable suggested action resample hour ', 'viscosity acceptable oil grade indicated next sample please confirm exact oil type analysis appears level micron range appear test result appear acceptable suggested action continue sampling recommended interval oil ha confirm hour oil next supply sample new oil establish ftir additive viscosity base line ', 'viscosity acceptable oil grade indicated infrared analysis appears acceptable wear level micron range appear acceptable all test result appear acceptable suggested action continue sampling recommended interval ', 'viscosity acceptable oil grade indicated infrared analysis appears acceptable wear level micron range appear acceptable all test result appear acceptable suggested action continue sampling recommended interval ', 'viscosity acceptable oil grade indicated infrared analysis appears acceptable wear level micron range appear acceptable all test result appear acceptable suggested action continue sampling recommended interval ', 'viscosity consistent oil type analysis appears level micron range appear low amount magnetic metal wa test result appear acceptable suggested action inspect used oil filter abnormal sampling particles maybe due sampling technique oil suction hose sampling base half recommended interval following investigation ', 'viscosity acceptable oil grade indicated infrared analysis appears acceptable wear level micron range appear acceptable all test result appear acceptable suggested action continue sampling recommended interval ', 'viscosity acceptable oil grade indicated infrared analysis appears acceptable wear level micron range appear all test result appear acceptable suggested action continue sampling regular interval ', 'viscosity consistent oil type analysis appears increasing other wear level micron range appear test result appear acceptable suggested action monitor coolant hour ', 'viscosity consistent oil type indicated infrared analysis appears acceptable wear level micron range appear acceptable all test appear action continue sampling recommended interval ', 'viscosity acceptable oil grade indicated infrared analysis appears low amount foreign material wa observed oil level micron range appear acceptable all test result appear acceptable suggested action inspect used oil filter dirt foreign material abnormal metallic wear may entered bottle sampling sampling procedure avoiding contamination half recommended interval confirm normal condition ', 'viscosity acceptable oil grade indicated infrared analysis appears low amount foreign material magnetic metal particle visually observed oil high results may indicate developing coolant leak adversely affect lubricating ability oil iron lead increasing all test result appear acceptable suggested action check test cooling coolant used oil filter abnormal hour ', 'viscosity consistent oil type indicated infrared analysis appears acceptable wear level micron range appear acceptable all test appear action continue sampling recommended interval ', 'viscosity acceptable oil grade indicated infrared analysis appears acceptable wear level micron range appear all test result appear acceptable suggested action continue sampling regular interval ', 'viscosity acceptable oil grade indicated infrared analysis appears acceptable wear level micron range appear acceptable all test result appear acceptable suggested action continue sampling recommended interval ', 'viscosity consistent oil type analysis appears low amount magnetic metal wa level micron range appear test result appear acceptable suggested action inspect used oil filter abnormal hour ', 'viscosity consistent oil type indicated infrared analysis appears acceptable wear level micron range appear acceptable all test appear action continue sampling recommended interval ', 'viscosity acceptable oil grade indicated infrared analysis appears acceptable wear level micron range appear acceptable all test result appear acceptable suggested action continue sampling recommended interval ', 'viscosity acceptable oil grade indicated infrared analysis appears acceptable wear level micron range appear acceptable all test result appear acceptable suggested action continue sampling recommended interval ', 'viscosity low oil type indicated viscosity typical grade oil infrared analysis appears iron lead tin slightly high oil levels may acceptable due period all test results appear used oil filter abnormal debris continue sampling recommended interval ', 'viscosity normal oil type indicated no new oil found sample bottle test copper slightly high oil all test results appear used oil filter abnormal debris copper may due chemical leaching oil additives continue sampling recommended interval ', 'viscosity normal oil type indicated infrared analysis appears acceptable wear levels micron range appear all test results appear acceptable continue sampling recommended interval ', 'viscosity normal oil grade indicated please advise make oil future sample infrared analysis appears levels micron range appear all test results appear sampling recommended interval ', 'viscosity normal oil grade indicated wear levels micron range appear infrared analysis appears acceptable all test results appear acceptable continue sampling recommended interval ', 'viscosity normal oil type indicated infrared analysis appears acceptable wear levels micron range appear all test results appear acceptable continue sampling recommended interval ', 'viscosity typical grade oil please advise make grade oil future sample infrared analysis appears levels micron range appear ok unknown oil hours all test results appear supply correct oil hour future sample used gauge wear sample needed establish sampling recommended interval ', 'viscosity appears acceptable compartment please advise make grade oil future sample infrared analysis appears levels micron range appear ok unknown oil hours all test results appear supply correct oil hour future sample used gauge wear rate continue sampling recommended interval ', 'viscosity appears acceptable compartment infrared analysis appears acceptable wear levels micron range appear all test results appear acceptable continue sampling recommended interval ', 'viscosity appears consistent please advise make grade oil future sample infrared analysis appears acceptable wear levels micron range appear all test results appear acceptable continue sampling recommended interval ', 'viscosity appears consistent please advise make grade oil future sample infrared analysis appears acceptable wear levels micron range appear all test results appear acceptable continue sampling recommended interval ', 'viscosity normal oil type indicated infrared analysis appears acceptable wear levels micron range appear all test results appear acceptable continue sampling recommended interval ', 'viscosity normal oil type indicated infrared analysis appears lead slightly high these result may due extended oil change period all test results appear cut open used oil filter service interval inspect debris resample hour ', 'viscosity normal oil type indicated infrared analysis appears acceptable wear levels micron range appear all test results appear acceptable continue sampling recommended interval ', 'viscosity normal oil type indicated infrared analysis appears slightly high model all test results appear used oil filter abnormal debris resample hour ', 'viscosity normal oil grade indicated wear levels micron range appear infrared analysis appears acceptable all test results appear acceptable continue sampling recommended interval ', 'viscosity normal oil type indicated infrared analysis appears acceptable wear levels micron range appear all test result appear acceptable continue sampling recommended interval ', 'viscosity normal oil type indicated infrared analysis appears acceptable wear levels micron range appear all test result appear acceptable continue sampling recommended interval ', 'viscosity normal oil type indicated infrared analysis appears acceptable wear levels micron range appear all test result appear acceptable continue sampling recommended interval ', 'viscosity appears acceptable compartment soot appears increasing check causes copper iron increasing all test result appear air filter copper may due chemical leaching oil used oil filter abnormal debris resample hour ', 'viscosity normal oil type indicated infrared analysis appears extremely high a patch revealed low copper wear debris suggesting high icp copper result relates chemical leaching iron slightly high all test result appear used oil filter abnormal debris resample hour oil hours ', 'viscosity typical grade advise make grade oil future sample copper high residue prior contamination all test results appear filter debris continue sampling recommended interval ', 'viscosity acceptable oil grade indicated next sample please advise oil type analysis appears extremely high copper may due chemical leaching oil lead increasing this sample contaminated water oil unsuitable test due water increasing elevated sodium result may relate developing coolant leak oil monitor coolant test result appear used oil filter abnormal debris filtergram analysis may assist confirming identifying source elevated wear metal leak seal cover breather may allow water hours confirm normal condition ', 'viscosity normal oil type indicated infrared analysis appears slightly high copper may due chemical leaching oil carry previous test result appear cut open used oil filter service interval inspect debris resample hour hours oil not supplied sample on future samples please supply information ', 'viscosity typical grade oil please advise make grade oil future sample infrared analysis appears acceptable wear levels micron range appear acceptable unknown hour oil all test result appear acceptable continue sampling recommended interval ', 'viscosity appears acceptable compartment please advise make grade oil future sample infrared analysis appears levels micron range appear test results appear sampling recommended interval ', 'viscosity normal oil grade indicated infrared analysis appears acceptable wear levels micron range appear all test results appear acceptable continue sampling recommended interval ', 'all test result appear normal continue sampling recommended interval ', 'viscosity normal oil type indicated infrared analysis appears acceptable wear levels appear ok unknown oil all test results appear acceptable please supply oil hour future sample used gauge wear rate continue sampling recommended interval ', 'viscosity normal oil type indicated infrared analysis appears level micron range appear test result appear sampling recommended fluid hour correct sample please supply correct oil hour future sample used gauge wear rate ', 'viscosity acceptable oil grade indicated infrared analysis appears acceptable wear levels micron range appear all test results appear acceptable continue sampling recommended interval ', 'this sample contains slight water contamination this may caused condensation oil sample unsuitable viscosity test due water viscosity normal oil grade indicated infrared analysis appears acceptable wear levels micron range appear all test results appear acceptable continue sampling recommended interval ', 'viscosity consistent oil type indicated infrared analysis appears acceptable wear levels micron range appear all test result appear acceptable continue sampling recommended interval ', 'viscosity consistent oil type analysis appears index slightly level micron range appear test result appear inspecting used oil filter abnormal analysis may assist identifying source elevated pq half recommended interval confirm normal condition ', 'viscosity acceptable oil grade indicated infrared analysis appears acceptable wear level micron range appear all test result appear acceptable continue sampling recommended interval ', 'viscosity consistent oil type indicated infrared analysis appears acceptable wear levels micron range appear all test result appear acceptable continue sampling recommended interval ', 'viscosity consistent oil type indicated infrared analysis appears acceptable wear levels micron range appear all test result appear acceptable continue sampling recommended interval ', 'this sample contains slight water contamination this may caused condensation oil sample unsuitable viscosity test due water viscosity normal oil grade indicated infrared analysis appears acceptable wear levels micron range appear all test results appear acceptable continue sampling recommended interval ', 'viscosity acceptable oil grade indicated next sample please confirm oil type used infrared analysis appears acceptable wear levels micron range appear all test results appear acceptable continue sampling recommended interval ', 'viscosity consistent oil type indicated infrared analysis appears acceptable wear levels micron range appear acceptable all test result appear acceptable continue sampling recommended interval ', 'viscosity acceptable oil grade sample please confirm exact oil type analysis appears level micron range appear test result appear acceptable suggested action continue sampling recommended interval oil ha changed ', 'all test result appear normal continue sampling recommended interval ', 'viscosity acceptable oil grade sample please confirm exact oil type analysis appears level micron range appear test result appear acceptable suggested action resample hour confirm normal condition oil ha changed ', 'viscosity consistent oil type indicated infrared analysis appears acceptable wear level micron range appear acceptable all test appear action continue sampling recommended supply accurate fluid reading future sample used gauge wear rate ass compartment condition ', 'viscosity acceptable oil grade indicated infrared analysis appears acceptable wear level micron range appear all test result appear acceptable suggested action continue sampling regular interval ', 'viscosity acceptable oil grade indicated infrared analysis appears acceptable wear level micron range appear all test result appear acceptable suggested action continue sampling regular interval ', 'viscosity acceptable oil grade level suggest different oil analysis appears low amount magnetic metal wa observed lead slightly wear level micron range appear test result appear acceptable suggested action metal particle may due sampling sampling procedure ensure sampling valve flushed prior sample used oil filter abnormal debris filtergram analysis may assist confirming identifying source elevated oil change half recommended interval following investigation ', 'viscosity acceptable oil grade level suggest different oil analysis appears level micron range appear test result appear acceptable suggested action continue sampling recommended interval ', 'viscosity acceptable oil grade analysis appears level micron range appear test result appear acceptable suggested action continue sampling recommended interval ', 'viscosity consistent oil type analysis appears increasing other wear level micron range appear test result appear acceptable suggested action monitor coolant hour ', 'viscosity acceptable oil grade indicated infrared analysis appears acceptable wear level micron range appear all test result appear acceptable suggested action continue sampling regular interval ', 'viscosity acceptable oil grade indicated infrared analysis appears acceptable wear level micron range appear acceptable all test result appear acceptable suggested action continue sampling recommended interval ', 'viscosity consistent oil type indicated infrared analysis appears acceptable wear level micron range appear acceptable all test appear action continue sampling recommended interval ', 'viscosity consistent oil type indicated infrared analysis appears acceptable wear level micron range appear acceptable all test appear action continue sampling recommended interval ', 'viscosity consistent oil type indicated infrared analysis appears acceptable wear level micron range appear acceptable all test appear action continue sampling recommended interval ', 'viscosity normal oil type indicated infrared analysis appears iron lead tin slightly high oil all test results appear used oil filter abnormal debris more sample needed establish hour ', 'viscosity normal oil type indicated infrared analysis appears slightly high oil possible residue prior contamination all test results appear filter debris continue sampling recommended interval ', 'viscosity appears acceptable compartment please advise make grade oil future sample infrared analysis appears levels micron range appear all test results appear sampling recommended interval ', 'viscosity normal oil type indicated infrared analysis appears acceptable wear levels micron range appear all test results appear acceptable continue sampling recommended interval ', 'viscosity normal oil type indicated infrared analysis appears acceptable wear levels micron range appear all test results appear acceptable continue sampling recommended interval ', 'viscosity appears acceptable compartment no new oil found sample bottle test wear levels micron range appear all test results appear sampling recommended interval please supply oil hour future sample used gauge wear rate ', 'viscosity normal oil type indicated infrared analysis appears acceptable wear levels micron range appear all test results appear acceptable continue sampling recommended interval ', 'viscosity appears consistent infrared analysis appears acceptable wear levels micron range appear all test results appear acceptable continue sampling recommended interval ', 'viscosity normal oil type indicated infrared analysis appears acceptable wear levels micron range appear all test results appear acceptable continue sampling recommended interval ', 'viscosity normal oil type indicated oils additive level suggest different oil type use infrared analysis appears acceptable wear levels micron range appear all test results appear acceptable continue sampling recommended interval ', 'viscosity normal oil type indicated infrared analysis appears acceptable wear levels micron range appear all test results appear acceptable continue sampling recommended interval ', 'viscosity normal oil type indicated infrared analysis appears acceptable wear levels micron range appear all test results appear acceptable continue sampling recommended interval ', 'viscosity normal oil type indicated infrared analysis appears acceptable wear levels micron range appear all test results appear acceptable continue sampling recommended interval ', 'viscosity normal oil type indicated infrared analysis appears acceptable wear levels micron range appear all test results appear acceptable continue sampling recommended interval ', 'viscosity normal oil type indicated infrared analysis appears acceptable wear levels micron range appear all test results appear acceptable continue sampling recommended interval ', 'viscosity normal oil type indicated infrared analysis appears acceptable wear levels micron range appear all test results appear acceptable continue sampling recommended interval ', 'viscosity normal oil type indicated infrared analysis appears acceptable wear levels micron range appear all test results appear acceptable continue sampling recommended interval ', 'viscosity normal oil type indicated infrared analysis appears acceptable wear levels micron range appear all test result appear acceptable continue sampling recommended interval ', 'viscosity normal oil grade indicated wear levels micron range appear infrared analysis appears acceptable all test results appear acceptable continue sampling recommended interval ', 'viscosity normal oil type indicated infrared analysis appears acceptable wear levels micron range appear all test result appear acceptable continue sampling recommended interval ', 'viscosity normal oil type indicated infrared analysis appears acceptable wear levels micron range appear all test result appear acceptable continue sampling recommended interval ', 'viscosity normal oil type indicated infrared analysis appears acceptable wear levels micron range appear all test result appear acceptable continue sampling recommended interval ', 'viscosity normal oil type indicated infrared analysis appears acceptable wear levels micron range appear all test result appear acceptable continue sampling recommended interval ', 'viscosity normal oil type indicated infrared analysis appears acceptable wear levels micron range appear all test result appear acceptable continue sampling recommended interval ', 'viscosity normal oil type indicated infrared analysis appears acceptable wear levels micron range appear all test result appear acceptable continue sampling recommended interval ', 'viscosity normal oil type indicated infrared analysis appears acceptable wear levels micron range appear all test result appear acceptable continue sampling recommended interval ', 'viscosity normal oil type indicated infrared analysis appears acceptable wear levels micron range appear all test result appear acceptable continue sampling recommended interval ', 'viscosity acceptable oil grade indicated infrared analysis appears acceptable wear level micron range appear acceptable all test result appear acceptable continue sampling recommended interval ', 'viscosity acceptable oil grade indicated infrared analysis appears acceptable wear level micron range appear acceptable all test result appear acceptable continue sampling recommended interval ', 'viscosity acceptable oil grade indicated infrared analysis appears acceptable wear level micron range appear acceptable all test result appear acceptable continue sampling recommended interval ', 'viscosity acceptable oil grade indicated infrared analysis appears acceptable wear level micron range appear acceptable all test result appear acceptable continue sampling recommended interval ', 'viscosity acceptable oil grade indicated oils additive level suggest different oil type use infrared analysis appears acceptable wear level micron range appear acceptable all test result appear acceptable continue sampling recommended supply accurate fluid reading future sample used gauge wear rate ass compartment condition ', 'viscosity consistent oil type indicated infrared analysis appears acceptable wear level micron range appear acceptable all test result appear acceptable continue sampling recommended interval ', 'viscosity consistent oil type indicated infrared analysis appears acceptable wear level micron range appear acceptable all test appear action continue sampling recommended interval ', 'viscosity acceptable oil grade indicated infrared analysis appears acceptable wear level micron range appear acceptable all test result appear acceptable suggested action continue sampling recommended interval ', 'viscosity acceptable oil grade indicated infrared analysis appears acceptable wear level micron range appear acceptable all test result appear acceptable suggested action continue sampling recommended interval ', 'viscosity consistent oil type analysis appears level micron range appear test result appear acceptable suggested action continue sampling recommended interval ', 'viscosity acceptable oil grade indicated infrared analysis appears acceptable wear level micron range appear acceptable all test result appear acceptable suggested action continue sampling recommended interval ', 'viscosity acceptable oil grade indicated infrared analysis appears acceptable wear level micron range appear acceptable all test result appear acceptable suggested action continue sampling recommended interval ', 'viscosity consistent oil type indicated infrared analysis appears acceptable wear level micron range appear acceptable all test appear action continue sampling recommended interval ', 'all test result appear normal continue sampling recommended interval ', 'viscosity consistent oil type indicated infrared analysis appears acceptable wear level micron range appear acceptable all test appear action continue sampling recommended interval ', 'viscosity consistent oil type analysis appears level micron range appear test result appear acceptable suggested action continue sampling recommended interval ', 'viscosity acceptable oil grade indicated infrared analysis appears acceptable wear level micron range appear all test result appear acceptable suggested action continue sampling regular interval ', 'viscosity typical grade oil soot test result appear acceptable suggested action ensure air cleaner sampling recommended interval ', 'viscosity acceptable oil grade slightly high level micron range appear acceptable all test result appear acceptable suggested action check cause elevated sooting air filter hour ', 'viscosity consistent oil type indicated infrared analysis appears acceptable wear level micron range appear acceptable all test appear action continue sampling recommended interval ', 'viscosity acceptable oil grade indicated infrared analysis appears acceptable wear level micron range appear all test result appear acceptable suggested action continue sampling regular interval ', 'viscosity consistent oil type indicated infrared analysis appears acceptable wear level micron range appear acceptable all test appear action continue sampling recommended interval ', 'viscosity acceptable oil grade indicated infrared analysis appears acceptable wear level micron range appear acceptable all test result appear acceptable suggested action continue sampling recommended interval ', 'viscosity consistent oil type indicated infrared analysis appears acceptable wear level micron range appear acceptable all test appear action continue sampling recommended interval ', 'viscosity acceptable oil grade indicated infrared analysis appears acceptable wear level micron range appear acceptable all test result appear acceptable suggested action continue sampling recommended interval ', 'viscosity consistent oil type indicated infrared analysis appears acceptable wear level micron range appear acceptable all test appear action continue sampling recommended interval ', 'viscosity typical grade level micron range appear test result appear action continue sampling recommended interval ', 'viscosity normal oil grade indicated wear levels micron range appear infrared analysis appears acceptable all test results appear acceptable continue sampling recommended interval ', 'viscosity normal oil type indicated infrared analysis appears acceptable wear levels micron range appear all test result appear acceptable continue sampling recommended interval ', 'viscosity normal oil type indicated infrared analysis appears acceptable wear levels micron range appear all test result appear acceptable continue sampling recommended interval ', 'viscosity acceptable oil grade analysis appears slightly wear level micron range appear test result appear used oil filter abnormal monitor oil sampling recommended interval ', 'viscosity acceptable oil grade indicated oils additive level suggest different oil type use next sample please confirm exact oil type grade analysis appears level micron range appear test result appear sampling recommended interval ', 'viscosity acceptable oil grade additive level suggest different oil type sample please confirm exact oil type analysis appears acceptable base number result low lead high unknown fluid supply accurate fluid hour future sample used gauge wear rate ass compartment test result appear evaluate compartment used oil filter abnormal analysis may assist confirming identifying source elevated engine oil pressure within spec idle full hours ', 'viscosity acceptable oil grade indicated infrared analysis appears acceptable wear level micron range appear acceptable all test result appear acceptable continue sampling recommended interval ', 'viscosity acceptable oil grade indicated infrared analysis appears acceptable wear level micron range appear all test result appear acceptable continue sampling recommended interval ', 'viscosity consistent oil type indicated infrared analysis appears acceptable wear level micron range appear acceptable all test appear action continue sampling recommended interval ', 'viscosity consistent oil type elevated level micron range appear acceptable all test result appear acceptable suggested action check cause high sooting evaluate air filter hour confirm normal condition oil ha changed ', 'viscosity consistent oil type analysis appears level micron range appear acceptable unknown hour test result appear acceptable suggested action continue sampling recommended interval ', 'viscosity acceptable oil grade slightly level micron range appear test result appear acceptable suggested action check cause elevated sooting check boost pressure fuel burn air filter engine data inspection air filter required machine working dusty reducing oil change hour confirm normal condition oil ha changed ', 'viscosity acceptable oil grade indicated infrared analysis appears acceptable wear level micron range appear acceptable all test result appear acceptable suggested action continue sampling recommended interval ', 'viscosity consistent oil type analysis appears level micron range appear test result appear acceptable suggested action continue sampling recommended interval ', 'viscosity consistent oil type indicated infrared analysis appears acceptable wear level micron range appear acceptable all test appear action continue sampling recommended interval ', 'viscosity consistent oil type indicated infrared analysis appears acceptable wear level micron range appear acceptable all test appear action continue sampling recommended interval ', 'viscosity consistent oil type indicated infrared analysis appears acceptable wear level micron range appear acceptable all test appear action continue sampling recommended interval ', 'viscosity consistent oil type indicated infrared analysis appears acceptable wear level micron range appear acceptable all test appear action continue sampling recommended interval ', 'viscosity consistent oil type indicated infrared analysis appears acceptable wear level micron range appear acceptable all test appear action continue sampling recommended interval ', 'viscosity typical grade level micron range appear test result appear acceptable suggested action continue sampling recommended interval ', 'viscosity acceptable oil grade indicated infrared analysis appears acceptable wear level micron range appear acceptable all test result appear acceptable suggested action continue sampling recommended interval ', 'viscosity acceptable oil grade indicated infrared analysis appears acceptable wear level micron range appear acceptable all test result appear acceptable suggested action continue sampling recommended interval ', 'viscosity consistent oil type indicated infrared analysis appears acceptable wear level micron range appear acceptable all test appear action continue sampling recommended interval ', 'viscosity consistent oil type analysis appears level micron range appear test result appear acceptable suggested action continue sampling recommended interval ', 'viscosity consistent oil type indicated infrared analysis appears acceptable wear level micron range appear acceptable all test appear action continue sampling recommended information supplied sample please ensure relevant field sample card filled correctly ', 'viscosity consistent oil grade indicated infrared analysis appears acceptable wear level micron range appear acceptable however need accurate fluid hour establish wear rate all test appear action please supply accurate fluid reading future sample used gauge wear rate ass compartment condition continue sampling recommended interval ', 'viscosity acceptable oil grade indicated infrared analysis appears acceptable wear level micron range appear all test result appear acceptable suggested action continue sampling regular interval ', 'viscosity acceptable oil grade indicated infrared analysis appears acceptable wear level micron range appear acceptable all test result appear acceptable suggested action continue sampling recommended interval ', 'viscosity consistent oil type indicated infrared analysis appears acceptable wear level micron range appear acceptable all test appear action continue sampling recommended interval ', 'viscosity normal oil type indicated medium magnetic particles detected oil sample wear levels micron range appear infrared analysis appears acceptable all test results appear acceptable inspect filter debris metal particles maybe due sampling technique oil suction hose sampling base sump resample hour confim normal condition ', 'viscosity normal oil type indicated infrared analysis appears acceptable wear levels micron range appear all test results appear acceptable continue sampling recommended interval ', 'viscosity normal oil type indicated infrared analysis appears acceptable wear levels micron range appear all test results appear acceptable continue sampling recommended interval ', 'viscosity appears acceptable compartment infrared analysis appears acceptable wear levels micron range appear ok unknown hrs oil all test results appear acceptable continue sampling recommended interval ', 'viscosity normal oil type indicated infrared analysis appears acceptable wear levels micron range appear all test results appear acceptable continue sampling recommended interval ', 'viscosity normal oil type indicated infrared analysis appears acceptable wear levels micron range appear all test results appear acceptable continue sampling recommended interval ', 'viscosity normal oil type indicated infrared analysis appears acceptable wear levels micron range appear all test results appear acceptable continue sampling recommended interval ', 'viscosity normal oil type indicated infrared analysis appears acceptable wear levels micron range appear all test results appear acceptable continue sampling recommended interval ', 'viscosity normal oil type indicated infrared analysis appears acceptable wear levels micron range appear all test results appear acceptable continue sampling recommended interval ', 'viscosity normal oil type indicated infrared analysis appears acceptable wear levels micron range appear all test results appear acceptable continue sampling recommended interval ', 'viscosity low oil type indicated this sample contains slight fuel dilution low viscosity may due slight fuel dilution infrared analysis appears acceptable wear levels micron range appear all test results appear acceptable monitor oil level compartment resample hour ', 'viscosity normal oil type indicated infrared analysis appears acceptable wear levels micron range appear all test results appear acceptable continue sampling recommended interval ', 'viscosity normal oil type indicated infrared analysis appears acceptable wear levels micron range appear all test results appear acceptable continue sampling recommended interval ', 'viscosity normal oil type indicated infrared analysis appears acceptable wear levels micron range appear all test results appear acceptable continue sampling recommended interval ', 'viscosity normal oil type indicated infrared analysis appears acceptable wear levels micron range appear all test results appear acceptable continue sampling recommended interval ', 'viscosity normal oil type indicated infrared analysis appears acceptable wear levels micron range appear all test results appear acceptable continue sampling recommended interval ', 'viscosity normal oil type indicated infrared analysis appears acceptable wear levels micron range appear all test result appear acceptable continue sampling recommended interval ', 'viscosity normal oil type indicated infrared analysis appears acceptable wear levels micron range appear all test result appear acceptable continue sampling recommended interval ', 'viscosity typical grade increasing all test results appear sampling recommended interval ', 'viscosity normal oil type indicated infrared analysis appears acceptable wear levels micron range appear all test result appear acceptable continue sampling recommended interval ', 'all test result appear normal continue sampling recommended interval ', 'viscosity normal oil type indicated infrared analysis appears acceptable wear levels micron range appear all test result appear acceptable continue sampling recommended interval ', 'viscosity normal oil grade indicated wear levels micron range appear infrared analysis appears acceptable all test results appear acceptable continue sampling recommended interval ', 'viscosity normal oil type indicated infrared analysis appears acceptable wear levels micron range appear all test result appear acceptable continue sampling recommended interval ', 'viscosity appears consistent infrared analysis appears acceptable wear levels micron range appear all test results appear acceptable continue sampling recommended interval ', 'viscosity normal oil type indicated infrared analysis appears acceptable wear levels micron range appear all test result appear acceptable continue sampling recommended interval ', 'viscosity normal oil type indicated infrared analysis appears acceptable wear levels micron range appear all test result appear acceptable continue sampling recommended interval ', 'viscosity consistent oil type indicated infrared analysis appears acceptable wear level micron range appear acceptable all test result appear acceptable continue sampling recommended interval ', 'viscosity acceptable oil grade indicated infrared analysis appears acceptable wear level micron range appear acceptable all test result appear acceptable continue sampling recommended interval ', 'viscosity consistent oil type indicated infrared analysis appears acceptable wear level micron range appear acceptable all test result appear acceptable continue sampling recommended interval ', 'viscosity consistent oil type indicated infrared analysis appears acceptable wear level micron range appear acceptable all test result appear acceptable continue sampling recommended interval ', 'viscosity acceptable oil grade indicated infrared analysis appears acceptable wear level micron range appear acceptable all test result appear acceptable suggested action continue sampling recommended interval ', 'viscosity acceptable oil grade analysis appears index slightly level micron range appear test result appear acceptable suggested action elevated pq index may due sampling used oil filter abnormal analysis may assist identifying source elevated sampling procedure resample reduced interval following investigation ', 'viscosity acceptable oil grade elevated soot promote abrasive wear level micron range appear test result appear acceptable suggested action inspect filter abnormal cause high sooting evaluate air filter resample hour confirm normal condition ', 'viscosity consistent oil type indicated infrared analysis appears acceptable wear level micron range appear acceptable all test appear action continue sampling recommended interval ', 'viscosity consistent oil type elevated level micron range appear test result appear acceptable suggested action check cause elevated sooting boost pressure fuel burn air filter engine data hour ', 'viscosity consistent oil type analysis appears level micron range appear test result appear acceptable suggested action continue sampling recommended interval ', 'all test result appear normal continue sampling recommended interval ', 'viscosity consistent oil type analysis appears level micron range appear test result appear acceptable suggested action continue sampling recommended interval ', 'viscosity consistent oil type indicated infrared analysis appears acceptable wear level micron range appear acceptable all test appear action continue sampling recommended interval ', 'viscosity consistent oil type indicated infrared analysis appears acceptable wear level micron range appear acceptable all test appear action continue sampling recommended interval ', 'viscosity consistent oil type indicated infrared analysis appears acceptable wear level micron range appear acceptable all test appear action continue sampling recommended interval ', 'viscosity consistent oil type indicated infrared analysis appears acceptable wear level micron range appear acceptable all test appear action continue sampling recommended interval ', 'viscosity consistent oil type indicated infrared analysis appears acceptable wear level micron range appear acceptable all test appear action continue sampling recommended interval ', 'viscosity acceptable oil grade indicated infrared analysis appears acceptable wear level micron range appear all test result appear acceptable suggested action continue sampling regular interval ', 'viscosity acceptable oil grade indicated infrared analysis appears index low amount magnetic metal wa level micron range appear test result appear acceptable suggested action metal particle may due sampling sampling procedure ensure sampling valve flushed prior sample used oil filter abnormal hour confirm normal condition oil ha changed ', 'viscosity consistent oil type indicated infrared analysis appears acceptable wear level micron range appear acceptable all test appear action continue sampling recommended interval ', 'viscosity acceptable oil grade indicated infrared analysis appears acceptable wear level micron range appear acceptable all test result appear acceptable suggested action continue sampling recommended interval ', 'viscosity consistent oil type indicated infrared analysis appears acceptable wear level micron range appear acceptable all test appear action continue sampling recommended interval ', 'viscosity consistent oil type indicated infrared analysis appears acceptable wear level micron range appear acceptable all test appear action continue sampling recommended interval ', 'viscosity acceptable oil grade indicated infrared analysis appears acceptable wear level micron range appear acceptable all test result appear acceptable suggested action continue sampling recommended interval ', 'viscosity consistent oil type indicated infrared analysis appears acceptable wear level micron range appear acceptable all test appear action continue sampling recommended interval ', 'viscosity typical grade oil no new oil found sample bottle test copper slightly high all test results appear cut open used oil filter service interval inspect debris more sample needed establish sampling recommended interval ', 'viscosity normal oil type indicated infrared analysis appears slightly high oil all test results appear used oil filter abnormal debris copper may due chemical leaching oil additives continue sampling recommended interval ', 'viscosity normal oil type indicated infrared analysis appears extremely high iron lead tin slightly high oil all test results appear used oil filter abnormal debris copper may due chemical leaching oil additives filtergram analysis may assist identifying source elevated hour ', 'viscosity normal oil type indicated infrared analysis appears slightly high oil could carry previous test results appear checking used oil filter copper particle due mechanical bronze debris visually seen filter copper may due chemical leaching oil hour ', 'viscosity appears acceptable compartment infrared analysis appears slightly high could carry previous test results appear may due chemical leaching oil additives recommend cut open used oil filter service interval inspect debris continue sampling recommended interval ', 'viscosity appears acceptable compartment infrared analysis appears acceptable wear levels micron range appear all test results appear acceptable continue sampling recommended interval ', 'viscosity appears acceptable compartment infrared analysis appears levels micron range appear all test results appear sampling recommended interval ', 'viscosity normal oil type indicated infrared analysis appears acceptable wear levels micron range appear all test results appear acceptable continue sampling recommended interval ', 'viscosity typical grade analysis appears acceptable wear levels micron range appear all test results appear acceptable continue sampling recommended interval ', 'viscosity appears consistent infrared analysis appears acceptable wear levels micron range appear all test results appear acceptable continue sampling recommended interval ', 'viscosity normal oil type indicated infrared analysis appears acceptable oil not supplied sample please supply info future samples wear levels micron range appear ok unknown oil all test results appear acceptable continue sampling recommended interval ', 'viscosity appears acceptable compartment next sample please confirm oil grade used infrared analysis appears levels micron range appear all test result appear sampling recommended hours ', 'viscosity appears consistent viscosity typical grade analysis appears acceptable wear levels micron range appear all test results appear acceptable continue sampling recommended interval ', 'viscosity normal oil type indicated infrared analysis appears acceptable wear levels micron range appear all test result appear acceptable continue sampling recommended interval ', 'viscosity appears acceptable compartment infrared analysis appears levels micron range appear all test result appear sampling recommended interval ', 'viscosity normal oil type indicated infrared analysis appears acceptable wear levels micron range appear all test result appear acceptable continue sampling recommended interval ', 'viscosity normal oil type indicated infrared analysis appears acceptable wear levels micron range appear all test result appear acceptable continue sampling recommended interval ', 'viscosity normal oil type indicated infrared analysis appears acceptable wear levels micron range appear all test result appear acceptable continue sampling recommended interval ', 'viscosity normal oil type indicated infrared analysis appears acceptable wear levels micron range appear all test result appear acceptable continue sampling recommended interval ', 'viscosity typical grade results appear increasing these result may due extended oil change period wear levels micron range appear all test results appear hour ', 'viscosity typical grade appears increasing check causes sulphation increasing nitration increasing iron increasing investigate evaluate compartment condition ensure air cleaner element good clean condition inspect used oil filter abnormal debris if make up oil needed include next sample resample half recommended interval ', 'viscosity typical grade analysis appears levels micron range appear ok low hour oil all test result appear sampling recommended interval ', 'viscosity typical grade oil infrared analysis appears acceptable wear levels micron range appear all test result appear acceptable continue sampling recommended interval ', 'viscosity typical grade analysis appears level micron range appear test result appear sampling recommended interval ', 'viscosity typical grade analysis appears level micron range appear test result appear sampling recommended interval ', 'viscosity typical grade advise make grade oil future result may may acceptable depending oil level micron range appear test result appear sampling recommended supply accurate fluid reading future sample used gauge wear rate ass compartment condition ', 'viscosity typical grade advise make grade oil future analysis appears level micron range appear acceptable all test result appear sampling recommended interval ', 'viscosity typical grade advise make grade oil future analysis appears elevated elevated infrared result may caused increased blowby incorrect operating temperature extended oil change level micron range appear acceptable all test result appear acceptable suggested action reduce oil change hour confirm normal condition oil ha changed ', 'viscosity typical grade sample please confirm exact oil type grade analysis appears level micron range appear test result appear acceptable suggested action continue sampling recommended interval ', 'viscosity acceptable oil grade soot promote abrasive wear slightly wear level micron range appear test result appear acceptable suggested action inspect filter abnormal cause high sooting evaluate air filter analysis may assist identifying source elevated iron resample hour confirm normal condition ', 'viscosity acceptable oil grade elevated model suggesting engine might suffer combustion inefficiency consider checking boost pressure fuel burn engine data slightly high test result appear acceptable suggested action check cause elevated sooting boost pressure fuel burn air filter engine data used oil filter abnormal hour following assessment ', 'viscosity consistent oil type soot promote abrasive wear wear level micron range appear test result appear acceptable suggested action check cause elevated sooting boost pressure fuel burn air filter engine data used oil filter abnormal shorter oil filter change interval possibly reduce soot oil change hour following advise recent repair performed ', 'viscosity consistent oil type analysis appears level micron range appear test result appear acceptable suggested action continue sampling recommended interval ', 'viscosity consistent oil type indicated infrared analysis appears acceptable wear level micron range appear acceptable all test appear action continue sampling recommended interval ', 'viscosity consistent oil type analysis appears level micron range appear test result appear acceptable suggested action continue sampling recommended interval ', 'viscosity consistent oil type analysis appears level micron range appear test result appear acceptable suggested action continue sampling recommended interval ', 'all test results appear normal continue sampling recommended interval ', 'viscosity consistent oil type indicated infrared analysis appears acceptable wear level micron range appear acceptable all test appear action continue sampling recommended interval ', 'viscosity consistent oil type indicated infrared analysis appears acceptable wear level micron range appear acceptable all test appear action continue sampling recommended interval ', 'viscosity consistent oil type indicated infrared analysis appears acceptable wear level micron range appear acceptable all test appear action continue sampling recommended interval ', 'viscosity consistent oil type indicated infrared analysis appears acceptable wear level micron range appear acceptable all test appear action continue sampling recommended interval ', 'viscosity acceptable oil grade indicated infrared analysis appears acceptable wear level micron range appear acceptable all test result appear acceptable suggested action continue sampling recommended interval ', 'viscosity consistent oil type indicated infrared analysis appears acceptable wear level micron range appear acceptable all test appear action continue sampling recommended interval ', 'viscosity acceptable oil grade indicated infrared analysis appears acceptable wear level micron range appear acceptable all test result appear acceptable suggested action continue sampling recommended interval ', 'viscosity acceptable oil grade indicated infrared analysis appears acceptable wear level micron range appear acceptable all test result appear acceptable suggested action continue sampling recommended interval ', 'viscosity acceptable oil grade indicated infrared analysis appears acceptable wear level micron range appear all test result appear acceptable suggested action continue sampling regular interval ', 'viscosity consistent oil type indicated infrared analysis appears acceptable wear level micron range appear acceptable all test appear action continue sampling recommended interval ', 'viscosity acceptable oil grade result appear low amount magnetic metal wa index slightly level micron range appear test result appear acceptable suggested action check operating temperature blowby level boost pressure engine management data used oil filter abnormal half recommended interval confirm normal condition oil ha changed ', 'viscosity consistent oil type indicated infrared analysis appears acceptable wear level micron range appear acceptable all test appear action continue sampling recommended interval ', 'viscosity consistent oil type indicated infrared analysis appears acceptable wear level micron range appear acceptable all test appear action continue sampling recommended interval ', 'viscosity appears acceptable compartment infrared analysis appears lead slightly high hrs oil all test results appear may due chemical leaching oil additives recommend cut open used oil filter service interval inspect debris more sample needed establish hour ', 'viscosity normal oil type indicated infrared analysis appears acceptable wear levels micron range appear all test results appear acceptable continue sampling recommended interval ', 'viscosity normal oil type indicated infrared analysis appears acceptable wear levels micron range appear all test results appear acceptable continue sampling recommended interval ', 'viscosity normal oil grade indicated wear levels micron range appear infrared analysis appears acceptable all test results appear acceptable continue sampling recommended interval ', 'viscosity normal oil grade indicated wear levels micron range appear infrared analysis appears acceptable all test results appear acceptable continue sampling recommended interval ', 'viscosity normal oil type indicated infrared analysis appears acceptable wear levels micron range appear all test results appear acceptable continue sampling recommended interval ', 'viscosity normal oil type indicated infrared analysis appears increasing all test results appear sampling recommended interval oil hours ', 'viscosity normal oil grade indicated wear levels micron range appear infrared analysis appears acceptable all test results appear acceptable continue sampling recommended interval ', 'viscosity appears consistent infrared analysis appears acceptable wear levels micron range appear all test results appear acceptable continue sampling recommended interval ', 'viscosity normal oil grade indicated wear levels micron range appear infrared analysis appears acceptable all test results appear acceptable continue sampling recommended interval ', 'viscosity appears acceptable compartment infrared analysis appears acceptable wear levels micron range appear all test results appear acceptable continue sampling recommended interval ', 'viscosity normal oil type indicated infrared analysis appears acceptable wear levels micron range appear all test results appear acceptable continue sampling recommended interval ', 'viscosity normal oil type indicated infrared analysis appears acceptable wear levels micron range appear all test results appear acceptable continue sampling recommended interval ', 'viscosity normal oil grade indicated wear levels micron range appear infrared analysis appears acceptable all test results appear acceptable continue sampling recommended interval ', 'viscosity normal oil type indicated infrared analysis appears acceptable wear levels micron range appear all test result appear acceptable continue sampling recommended interval ', 'all test results appear normal continue sampling recommended interval ', 'viscosity normal oil grade indicated wear levels micron range appear infrared analysis appears acceptable all test results appear acceptable continue sampling recommended interval ', 'all test result appear normal continue sampling recommended interval ', 'viscosity normal oil type indicated infrared analysis appears acceptable wear levels micron range appear all test result appear acceptable continue sampling recommended interval ', 'viscosity normal oil grade indicated wear levels micron range appear infrared analysis appears acceptable all test results appear acceptable continue sampling recommended interval ', 'viscosity normal oil type indicated infrared analysis appears acceptable wear levels micron range appear all test result appear acceptable continue sampling recommended interval ', 'viscosity normal oil type indicated sulphation increasing wear levels micron range appear all test result appear hour ', 'viscosity normal oil type indicated infrared analysis appears acceptable wear levels micron range appear all test result appear acceptable continue sampling recommended interval ', 'viscosity normal oil type indicated infrared analysis appears acceptable wear levels micron range appear all test result appear acceptable continue sampling recommended interval ', 'viscosity normal oil type indicated infrared analysis appears acceptable wear levels micron range appear all test result appear acceptable continue sampling recommended interval ', 'viscosity acceptable oil grade indicated next sample please advise oil type analysis appears levels micron range appear acceptable unknown fluid hours please supply correct oil hour future sample used gauge wear result appears test result appear sample needed establish sampling recommended supply serial number sampling ensure result pertain correct machine allow trend develop ', 'viscosity acceptable oil grade indicated infrared analysis appears acceptable wear level micron range appear acceptable all test result appear acceptable continue sampling recommended interval ', 'viscosity acceptable oil grade indicated infrared analysis appears acceptable wear level micron range appear acceptable all test result appear acceptable continue sampling recommended interval ', 'viscosity consistent oil type indicated infrared analysis appears acceptable wear level micron range appear acceptable all test result appear acceptable continue sampling recommended supply accurate fluid hour future sample used gauge wear rate ass compartment condition ', 'viscosity consistent oil type indicated infrared analysis appears acceptable wear level micron range appear acceptable all test result appear acceptable continue sampling recommended interval ', 'viscosity consistent oil type indicated infrared analysis appears acceptable wear level micron range appear acceptable all test result appear acceptable continue sampling recommended interval ', 'viscosity consistent oil type indicated infrared analysis appears acceptable wear level micron range appear acceptable all test result appear acceptable continue sampling recommended interval ', 'viscosity acceptable oil grade analysis appears slightly test result appear used oil filter abnormal hour ', 'viscosity acceptable oil grade analysis appears acceptable wear level micron range appear test result appear sampling recommended interval ', 'viscosity acceptable oil grade indicated infrared analysis appears acceptable wear level micron range appear acceptable all test result appear acceptable continue sampling recommended interval ', 'viscosity consistent oil type indicated infrared analysis appears acceptable wear level micron range appear acceptable all test result appear acceptable continue sampling recommended interval ', 'viscosity acceptable oil grade indicated infrared analysis appears acceptable wear level micron range appear acceptable all test result appear acceptable continue sampling recommended interval ', 'viscosity consistent oil type indicated infrared analysis appears acceptable wear level micron range appear acceptable all test result appear acceptable continue sampling recommended interval ', 'viscosity consistent oil type indicated infrared analysis appears acceptable wear level micron range appear acceptable all test result appear acceptable continue sampling recommended interval ', 'viscosity acceptable oil grade indicated infrared analysis appears acceptable wear level micron range appear all test result appear acceptable continue sampling recommended interval ', 'viscosity consistent oil type indicated infrared analysis appears acceptable wear level micron range appear acceptable all test result appear acceptable continue sampling recommended interval ', 'viscosity consistent oil type indicated infrared analysis appears acceptable wear level micron range appear acceptable all test appear action continue sampling recommended interval ', 'viscosity acceptable oil grade indicated infrared analysis appears acceptable wear level micron range appear acceptable all test result appear acceptable suggested action continue sampling recommended interval ', 'viscosity typical grade level micron range appear test result appear action continue sampling recommended interval ', 'viscosity acceptable oil grade indicated infrared analysis appears acceptable wear level micron range appear acceptable all test result appear acceptable suggested action continue sampling recommended interval ', 'viscosity consistent oil type indicated iron soot level test result appear acceptable suggested action inspect used oil filter abnormal cause elevated sooting boost pressure fuel burn air filter engine data half recommended interval following investigation ', 'viscosity consistent oil type indicated infrared analysis appears acceptable wear level micron range appear acceptable all test appear action continue sampling recommended interval ', 'viscosity consistent oil type analysis appears level micron range appear test result appear acceptable suggested action continue sampling recommended hours ', 'viscosity consistent oil type indicated infrared analysis appears acceptable wear level micron range appear acceptable all test appear action continue sampling recommended interval ', 'viscosity consistent oil type indicated infrared analysis appears acceptable wear level micron range appear acceptable all test appear action continue sampling recommended supply accurate fluid hour future sample used gauge wear rate ass compartment condition ', 'viscosity acceptable oil grade indicated infrared analysis appears acceptable wear level micron range appear all test result appear acceptable suggested action continue sampling regular interval ', 'viscosity consistent oil type analysis appears level micron range appear test result appear acceptable suggested action continue sampling recommended interval ', 'viscosity acceptable oil grade indicated infrared analysis appears acceptable wear level micron range appear acceptable all test result appear acceptable suggested action continue sampling recommended interval ', 'viscosity acceptable oil grade indicated infrared analysis appears acceptable wear level micron range appear all test result appear acceptable suggested action continue sampling regular interval ', 'viscosity acceptable oil grade indicated infrared analysis appears acceptable wear level micron range appear acceptable all test result appear acceptable suggested action continue sampling recommended interval ', 'viscosity consistent oil type indicated infrared analysis appears acceptable wear level micron range appear acceptable all test appear action continue sampling recommended interval ', 'viscosity consistent oil type indicated infrared analysis appears acceptable wear level micron range appear acceptable all test appear action continue sampling recommended interval ', 'viscosity change additive package indicates different oil type level micron range appear low amount magnetic metal wa test result appear acceptable suggested action low viscosity may due compartment oil level filter abnormal hour ', 'viscosity normal oil type indicated infrared analysis appears lead tin silicon sodium slightly high unknown oil all test results appear used oil filter abnormal debris monitor coolant usage more sample needed establish hour ', 'viscosity normal oil type indicated infrared analysis appears acceptable wear levels micron range appear all test results appear acceptable continue sampling recommended interval ', 'viscosity normal oil type indicated infrared analysis appears acceptable wear levels micron range appear all test results appear acceptable continue sampling recommended interval ', 'viscosity normal oil type indicated infrared analysis appears acceptable copper slightly high oil all test results appear acceptable inspect used oil filter abnormal debris continue sampling recommended interval ', 'viscosity normal oil type indicated infrared analysis appears acceptable wear levels micron range appear all test results appear acceptable continue sampling recommended interval ', 'viscosity normal oil type indicated infrared analysis appears slightly high oil all test results appear filter debris continue sampling recommended interval ', 'viscosity normal oil type indicated infrared analysis appears slightly high test results appear used oil filter abnormal debris continue sampling recommended interval ', 'viscosity normal oil type indicated infrared analysis appears acceptable wear levels micron range appear all test results appear acceptable continue sampling recommended interval ', 'viscosity normal oil type indicated infrared analysis appears acceptable copper slightly high oil all test results appear acceptable inspect used oil filter abnormal debris continue sampling recommended interval ', 'viscosity normal oil type indicated infrared analysis appears acceptable wear levels micron range appear all test results appear acceptable continue sampling recommended interval ', 'viscosity normal oil type indicated infrared analysis appears acceptable wear levels micron range appear all test results appear acceptable continue sampling recommended interval ', 'viscosity normal oil grade indicated wear levels micron range appear infrared analysis appears acceptable all test results appear acceptable continue sampling recommended interval ', 'viscosity normal oil grade indicated wear levels micron range appear infrared analysis appears acceptable all test results appear acceptable continue sampling recommended interval ', 'viscosity normal oil type indicated infrared analysis appears iron tin lead increasing silicon aluminium slightly elevated indicating compartment ha minor dirt contamination all test result appear used oil filter abnormal debris inspect leak may allow dirt hour confim normal condition ', 'viscosity normal oil type indicated infrared analysis appears slightly high oil could carry previous test result appear sampling recommended interval ', 'viscosity normal oil grade indicated wear levels micron range appear infrared analysis appears acceptable all test results appear acceptable continue sampling recommended interval ', 'all test result appear normal continue sampling recommended interval ', 'viscosity normal oil type indicated infrared analysis appears soot elevating all test result appear used oil filter abnormal debris excess soot promote abrasive wear component air filter resample hour ', 'viscosity normal oil type indicated infrared analysis appears acceptable wear levels micron range appear all test result appear acceptable continue sampling recommended interval ', 'viscosity normal oil type indicated infrared analysis appears soot elevating all test result appear used oil filter abnormal debris air filter resample hour ', 'viscosity normal oil grade indicated wear levels micron range appear infrared analysis appears acceptable all test results appear acceptable continue sampling recommended interval ', 'viscosity normal oil type indicated sulphation slightly high wear levels micron range appear all test result appear sampling recommended interval ', 'viscosity normal oil type indicated infrared analysis appears acceptable wear levels micron range appear all test result appear acceptable continue sampling recommended interval ', 'viscosity normal oil grade indicated infrared analysis appears acceptable wear levels micron range appear acceptable unknown hour oil all test result appear acceptable continue sampling recommended interval please supply accurate oil hour future sample used gauge wear sample needed establish trend ', 'viscosity acceptable oil grade indicated infrared analysis appears acceptable wear level micron range appear acceptable all test result appear acceptable continue sampling recommended interval ', 'viscosity acceptable oil grade indicated next sample please advise oil type analysis appears acceptable wear level micron range appear test result appear sampling recommended interval ', 'viscosity consistent oil type indicated infrared analysis appears acceptable wear level micron range appear acceptable all test result appear acceptable continue sampling recommended interval ', 'viscosity consistent oil type indicated infrared analysis appears acceptable wear level micron range appear acceptable all test result appear acceptable continue sampling recommended interval ', 'viscosity low oil grade sample contains fuel viscosity may due fuel analysis appears slightly test result appear evaluate compartment fuel system internal investigative measure repair may used oil filter abnormal oil level hour following assessment ', 'viscosity acceptable oil grade indicated infrared analysis appears acceptable wear level micron range appear acceptable all test result appear acceptable continue sampling recommended interval ', 'viscosity low oil type sample contains slight fuel carry previous analysis appears level micron range appear acceptable all test result appear changing oil oil level half recommended interval confirm normal condition oil ha changed ', 'viscosity low oil type sample contains excessive fuel analysis appears level micron range appear acceptable all test result appear evaluate compartment fuel system internal oil level hour following ', 'viscosity low oil type sample contains excessive fuel analysis appears level micron range appear evaluate compartment fuel dilution generally result extended idling improper operation internal fuel leak incomplete combustion check fuel system internal leak monitor oil level abnormal debris resample reduced interval following investigation ', 'viscosity low oil type sample contains fuel analysis appears pq index increasing low recorded fluid hour all test result appear evaluate compartment used oil filter abnormal analysis may assist identifying source elevated wear metal oil level hour following assessment ', 'viscosity slightly low oil type indicated low oil hour infrared analysis appears level micron range appear test result appear oil level advise future sample card recent repair carried assist interpretation continue sampling reduced interval oil ha changed ', 'viscosity consistent oil type indicated infrared analysis appears acceptable wear level micron range appear acceptable all test result appear acceptable continue sampling recommended interval ', 'viscosity acceptable oil grade level suggest different oil type sample please confirm exact oil type analysis appears level micron range appear test result appear acceptable suggested action resample hour ', 'viscosity acceptable oil grade level suggest mixture different oil analysis appears level micron range appear low amount foreign material wa test result appear acceptable suggested action inspect used oil filter abnormal rectify possible contaminant sampling may entered bottle sampling half recommended interval following investigation ', 'viscosity consistent oil type indicated infrared analysis appears acceptable wear level micron range appear acceptable all test appear action continue sampling recommended interval ', 'viscosity consistent oil type analysis appears level micron range appear low amount foreign material wa test result appear acceptable suggested action inspect used oil filter abnormal rectify possible contaminant sampling may entered bottle sampling half recommended interval following investigation ', 'viscosity typical grade level micron range appear test result appear action continue sampling recommended interval ', 'viscosity consistent oil type analysis appears level micron range appear test result appear acceptable suggested action continue sampling recommended interval ', 'viscosity consistent oil type indicated infrared analysis appears acceptable wear level micron range appear acceptable all test appear action continue sampling recommended interval ', 'viscosity consistent oil type analysis appears level micron range appear test result appear acceptable suggested action continue sampling recommended interval ', 'viscosity consistent oil type indicated infrared analysis appears acceptable wear level micron range appear acceptable all test appear action continue sampling recommended interval ', 'viscosity consistent oil type indicated infrared analysis appears acceptable wear level micron range appear acceptable all test appear action continue sampling recommended interval ', 'viscosity acceptable oil grade indicated infrared analysis appears acceptable wear level micron range appear acceptable all test result appear acceptable suggested action continue sampling recommended interval ', 'viscosity acceptable oil grade indicated infrared analysis appears acceptable wear level micron range appear all test result appear acceptable suggested action continue sampling regular interval ', 'viscosity consistent oil type analysis appears level micron range appear test result appear acceptable suggested action continue sampling recommended interval ', 'viscosity acceptable oil grade indicated infrared analysis appears acceptable wear level micron range appear all test result appear acceptable suggested action continue sampling regular interval ', 'viscosity acceptable oil grade indicated infrared analysis appears acceptable wear level micron range appear acceptable all test result appear acceptable suggested action continue sampling recommended interval ', 'all test results appear normal continue sampling recommended interval ', 'viscosity acceptable oil grade sample please confirm exact oil type analysis appears level micron range appear test result appear acceptable suggested action resample hour confirm normal condition oil ha changed ', 'viscosity acceptable oil grade soot promote abrasive wear slightly wear level micron range appear test result appear acceptable suggested action inspect filter abnormal cause high sooting evaluate air filter analysis may assist identifying source elevated iron resample hour confirm normal condition ', 'viscosity acceptable oil grade sample please confirm exact oil type analysis appears level micron range appear test result appear acceptable suggested action resample hour confirm normal condition oil ha changed ', 'viscosity acceptable oil grade soot promote abrasive wear slightly wear level micron range appear test result appear acceptable suggested action inspect filter abnormal cause high sooting evaluate air filter analysis may assist identifying source elevated iron resample hour confirm normal condition ', 'viscosity acceptable oil grade sample please confirm exact oil type analysis appears level micron range appear test result appear acceptable suggested action resample hour confirm normal condition oil ha changed ', 'viscosity acceptable oil grade soot promote abrasive wear slightly wear level micron range appear test result appear acceptable suggested action inspect filter abnormal cause high sooting evaluate air filter analysis may assist identifying source elevated iron resample hour confirm normal condition ']\n"
     ]
    }
   ],
   "source": [
    "print(clean_test)"
   ]
  },
  {
   "cell_type": "code",
   "execution_count": 138,
   "metadata": {},
   "outputs": [],
   "source": [
    "X_train2, X_test2, y_train2, y_test2 = train_test_split(X_vector, y1, test_size=0.4, random_state=1)"
   ]
  },
  {
   "cell_type": "code",
   "execution_count": 139,
   "metadata": {},
   "outputs": [],
   "source": [
    "prediction = model.predict(X_test2)"
   ]
  },
  {
   "cell_type": "code",
   "execution_count": 155,
   "metadata": {},
   "outputs": [
    {
     "data": {
      "text/plain": [
       "0.9838709677419355"
      ]
     },
     "execution_count": 155,
     "metadata": {},
     "output_type": "execute_result"
    }
   ],
   "source": [
    "from sklearn.metrics import precision_score, accuracy_score\n",
    "accuracy_score(y_test, prediction)"
   ]
  },
  {
   "cell_type": "code",
   "execution_count": 156,
   "metadata": {},
   "outputs": [
    {
     "data": {
      "text/plain": [
       "0.95967741935483875"
      ]
     },
     "execution_count": 156,
     "metadata": {},
     "output_type": "execute_result"
    }
   ],
   "source": [
    "from sklearn.linear_model import LogisticRegression\n",
    "LR = LogisticRegression()\n",
    "LR.fit(X_train, y_train)\n",
    "y_pred = LR.predict(X_test)\n",
    "accuracy_score(y_test, y_pred)"
   ]
  },
  {
   "cell_type": "code",
   "execution_count": 157,
   "metadata": {},
   "outputs": [
    {
     "data": {
      "text/plain": [
       "0.95161290322580649"
      ]
     },
     "execution_count": 157,
     "metadata": {},
     "output_type": "execute_result"
    }
   ],
   "source": [
    "from sklearn.naive_bayes import MultinomialNB\n",
    "nb = MultinomialNB()\n",
    "nb.fit(X_train, y_train)\n",
    "y_pred = nb.predict(X_test)\n",
    "accuracy_score(y_test, y_pred)"
   ]
  },
  {
   "cell_type": "code",
   "execution_count": null,
   "metadata": {},
   "outputs": [],
   "source": []
  }
 ],
 "metadata": {
  "kernelspec": {
   "display_name": "Python 3",
   "language": "python",
   "name": "python3"
  },
  "language_info": {
   "codemirror_mode": {
    "name": "ipython",
    "version": 3
   },
   "file_extension": ".py",
   "mimetype": "text/x-python",
   "name": "python",
   "nbconvert_exporter": "python",
   "pygments_lexer": "ipython3",
   "version": "3.6.8"
  }
 },
 "nbformat": 4,
 "nbformat_minor": 2
}
